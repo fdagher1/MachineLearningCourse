{
 "cells": [
  {
   "cell_type": "markdown",
   "metadata": {},
   "source": [
    "### Import and clean data"
   ]
  },
  {
   "cell_type": "code",
   "execution_count": 1,
   "metadata": {},
   "outputs": [],
   "source": [
    "import csv #needed to import the CSV file\n",
    "import math #needed for using the square root operation\n",
    "\n",
    "#get the training data from CSV file, assumed to have a header, and include label column at the end, ex:\n",
    "with open('1-kc_house_data.csv', newline='') as f:\n",
    "    reader = csv.reader(f)\n",
    "    dataset = list(reader)\n",
    "    \n",
    "#convert string values to integer\n",
    "for row in range(len(dataset)):\n",
    "    if (row==0):\n",
    "        break\n",
    "    for column in range(len(dataset[row])):\n",
    "        if column==1:\n",
    "            dataset[row][column] = string(dataset[row][column])\n",
    "        else:\n",
    "            dataset[row][column] = int(dataset[row][column])"
   ]
  },
  {
   "cell_type": "markdown",
   "metadata": {},
   "source": [
    "### Identify the 1 feature to use in the classifier"
   ]
  },
  {
   "cell_type": "code",
   "execution_count": 2,
   "metadata": {},
   "outputs": [
    {
     "data": {
      "text/html": [
       "<div>\n",
       "<style scoped>\n",
       "    .dataframe tbody tr th:only-of-type {\n",
       "        vertical-align: middle;\n",
       "    }\n",
       "\n",
       "    .dataframe tbody tr th {\n",
       "        vertical-align: top;\n",
       "    }\n",
       "\n",
       "    .dataframe thead th {\n",
       "        text-align: right;\n",
       "    }\n",
       "</style>\n",
       "<table border=\"1\" class=\"dataframe\">\n",
       "  <thead>\n",
       "    <tr style=\"text-align: right;\">\n",
       "      <th></th>\n",
       "      <th>price</th>\n",
       "      <th>bedrooms</th>\n",
       "      <th>sqft_living</th>\n",
       "      <th>sqft_above</th>\n",
       "      <th>sqft_living15</th>\n",
       "    </tr>\n",
       "  </thead>\n",
       "  <tbody>\n",
       "    <tr>\n",
       "      <th>price</th>\n",
       "      <td>1.000000</td>\n",
       "      <td>0.308350</td>\n",
       "      <td>0.702035</td>\n",
       "      <td>0.605567</td>\n",
       "      <td>0.585379</td>\n",
       "    </tr>\n",
       "    <tr>\n",
       "      <th>bedrooms</th>\n",
       "      <td>0.308350</td>\n",
       "      <td>1.000000</td>\n",
       "      <td>0.576671</td>\n",
       "      <td>0.477600</td>\n",
       "      <td>0.391638</td>\n",
       "    </tr>\n",
       "    <tr>\n",
       "      <th>sqft_living</th>\n",
       "      <td>0.702035</td>\n",
       "      <td>0.576671</td>\n",
       "      <td>1.000000</td>\n",
       "      <td>0.876597</td>\n",
       "      <td>0.756420</td>\n",
       "    </tr>\n",
       "    <tr>\n",
       "      <th>sqft_above</th>\n",
       "      <td>0.605567</td>\n",
       "      <td>0.477600</td>\n",
       "      <td>0.876597</td>\n",
       "      <td>1.000000</td>\n",
       "      <td>0.731870</td>\n",
       "    </tr>\n",
       "    <tr>\n",
       "      <th>sqft_living15</th>\n",
       "      <td>0.585379</td>\n",
       "      <td>0.391638</td>\n",
       "      <td>0.756420</td>\n",
       "      <td>0.731870</td>\n",
       "      <td>1.000000</td>\n",
       "    </tr>\n",
       "  </tbody>\n",
       "</table>\n",
       "</div>"
      ],
      "text/plain": [
       "                  price  bedrooms  sqft_living  sqft_above  sqft_living15\n",
       "price          1.000000  0.308350     0.702035    0.605567       0.585379\n",
       "bedrooms       0.308350  1.000000     0.576671    0.477600       0.391638\n",
       "sqft_living    0.702035  0.576671     1.000000    0.876597       0.756420\n",
       "sqft_above     0.605567  0.477600     0.876597    1.000000       0.731870\n",
       "sqft_living15  0.585379  0.391638     0.756420    0.731870       1.000000"
      ]
     },
     "execution_count": 2,
     "metadata": {},
     "output_type": "execute_result"
    }
   ],
   "source": [
    "#Select a few features of most interest\n",
    "from pandas import DataFrame\n",
    "df = DataFrame(dataset[1:],columns=dataset[0])  \n",
    "\n",
    "df = df[['price', 'bedrooms', 'sqft_living', 'sqft_above', 'sqft_living15']]\n",
    "df['price'] = df['price'].astype(float)\n",
    "df['bedrooms'] = df['bedrooms'].astype(int)\n",
    "df['sqft_living'] = df['sqft_living'].astype(int)\n",
    "df['sqft_above'] = df['sqft_above'].astype(int)\n",
    "df['sqft_living15'] = df['sqft_living15'].astype(int)\n",
    "\n",
    "# Draw correlation matrix\n",
    "df.corr()"
   ]
  },
  {
   "cell_type": "code",
   "execution_count": 3,
   "metadata": {},
   "outputs": [
    {
     "data": {
      "text/html": [
       "<div>\n",
       "<style scoped>\n",
       "    .dataframe tbody tr th:only-of-type {\n",
       "        vertical-align: middle;\n",
       "    }\n",
       "\n",
       "    .dataframe tbody tr th {\n",
       "        vertical-align: top;\n",
       "    }\n",
       "\n",
       "    .dataframe thead th {\n",
       "        text-align: right;\n",
       "    }\n",
       "</style>\n",
       "<table border=\"1\" class=\"dataframe\">\n",
       "  <thead>\n",
       "    <tr style=\"text-align: right;\">\n",
       "      <th></th>\n",
       "      <th>price</th>\n",
       "      <th>sqft_living</th>\n",
       "    </tr>\n",
       "  </thead>\n",
       "  <tbody>\n",
       "    <tr>\n",
       "      <th>count</th>\n",
       "      <td>2.161300e+04</td>\n",
       "      <td>21613.000000</td>\n",
       "    </tr>\n",
       "    <tr>\n",
       "      <th>mean</th>\n",
       "      <td>5.400881e+05</td>\n",
       "      <td>2079.899736</td>\n",
       "    </tr>\n",
       "    <tr>\n",
       "      <th>std</th>\n",
       "      <td>3.671272e+05</td>\n",
       "      <td>918.440897</td>\n",
       "    </tr>\n",
       "    <tr>\n",
       "      <th>min</th>\n",
       "      <td>7.500000e+04</td>\n",
       "      <td>290.000000</td>\n",
       "    </tr>\n",
       "    <tr>\n",
       "      <th>25%</th>\n",
       "      <td>3.219500e+05</td>\n",
       "      <td>1427.000000</td>\n",
       "    </tr>\n",
       "    <tr>\n",
       "      <th>50%</th>\n",
       "      <td>4.500000e+05</td>\n",
       "      <td>1910.000000</td>\n",
       "    </tr>\n",
       "    <tr>\n",
       "      <th>75%</th>\n",
       "      <td>6.450000e+05</td>\n",
       "      <td>2550.000000</td>\n",
       "    </tr>\n",
       "    <tr>\n",
       "      <th>max</th>\n",
       "      <td>7.700000e+06</td>\n",
       "      <td>13540.000000</td>\n",
       "    </tr>\n",
       "  </tbody>\n",
       "</table>\n",
       "</div>"
      ],
      "text/plain": [
       "              price   sqft_living\n",
       "count  2.161300e+04  21613.000000\n",
       "mean   5.400881e+05   2079.899736\n",
       "std    3.671272e+05    918.440897\n",
       "min    7.500000e+04    290.000000\n",
       "25%    3.219500e+05   1427.000000\n",
       "50%    4.500000e+05   1910.000000\n",
       "75%    6.450000e+05   2550.000000\n",
       "max    7.700000e+06  13540.000000"
      ]
     },
     "execution_count": 3,
     "metadata": {},
     "output_type": "execute_result"
    }
   ],
   "source": [
    "df = df[['price', 'sqft_living']]\n",
    "dataset = df.values.tolist()\n",
    "\n",
    "#convert data back to list\n",
    "X = df['sqft_living'].values.tolist()\n",
    "Y = df['price'].values.tolist()\n",
    "\n",
    "df.describe()"
   ]
  },
  {
   "cell_type": "markdown",
   "metadata": {},
   "source": [
    "### Plot feature and label"
   ]
  },
  {
   "cell_type": "code",
   "execution_count": 4,
   "metadata": {},
   "outputs": [
    {
     "data": {
      "text/plain": [
       "Text(0, 0.5, 'Nbre of Houses')"
      ]
     },
     "execution_count": 4,
     "metadata": {},
     "output_type": "execute_result"
    },
    {
     "data": {
      "image/png": "[encoded data removed]",
      "text/plain": [
       "<Figure size 432x288 with 1 Axes>"
      ]
     },
     "metadata": {
      "needs_background": "light"
     },
     "output_type": "display_data"
    }
   ],
   "source": [
    "import matplotlib.pyplot as plt\n",
    "%matplotlib inline\n",
    "\n",
    "# matplotlib histogram\n",
    "plt.hist(X, color = 'blue', edgecolor = 'black', bins = 30)\n",
    "\n",
    "# Add labels\n",
    "plt.title('Histogram of squarefoot living space')\n",
    "plt.xlabel('Space (sqft)')\n",
    "plt.ylabel('Nbre of Houses')"
   ]
  },
  {
   "cell_type": "code",
   "execution_count": 5,
   "metadata": {},
   "outputs": [
    {
     "data": {
      "text/plain": [
       "Text(0, 0.5, 'Nbre of Houses')"
      ]
     },
     "execution_count": 5,
     "metadata": {},
     "output_type": "execute_result"
    },
    {
     "data": {
      "image/png": "[encoded data removed]",
      "text/plain": [
       "<Figure size 432x288 with 1 Axes>"
      ]
     },
     "metadata": {
      "needs_background": "light"
     },
     "output_type": "display_data"
    }
   ],
   "source": [
    "# matplotlib histogram\n",
    "plt.hist(Y, color = 'blue', edgecolor = 'black', bins = 30)\n",
    "\n",
    "# Add labels\n",
    "plt.title('Histogram of Price')\n",
    "plt.xlabel('Price')\n",
    "plt.ylabel('Nbre of Houses')"
   ]
  },
  {
   "cell_type": "markdown",
   "metadata": {},
   "source": [
    "### Get Log values"
   ]
  },
  {
   "cell_type": "code",
   "execution_count": 6,
   "metadata": {},
   "outputs": [],
   "source": [
    "logX = list()\n",
    "logY = list()\n",
    "\n",
    "for i in range(len(X)): logX.append(math.log(X[i], 10))\n",
    "for i in range(len(Y)): logY.append(math.log(Y[i], 10))\n"
   ]
  },
  {
   "cell_type": "code",
   "execution_count": 7,
   "metadata": {},
   "outputs": [
    {
     "data": {
      "text/plain": [
       "Text(0, 0.5, 'Nbre of Houses')"
      ]
     },
     "execution_count": 7,
     "metadata": {},
     "output_type": "execute_result"
    },
    {
     "data": {
      "image/png": "[encoded data removed]",
      "text/plain": [
       "<Figure size 432x288 with 1 Axes>"
      ]
     },
     "metadata": {
      "needs_background": "light"
     },
     "output_type": "display_data"
    }
   ],
   "source": [
    "# matplotlib histogram\n",
    "plt.hist(logX, color = 'blue', edgecolor = 'black', bins = 30)\n",
    "\n",
    "# Add labels\n",
    "plt.title('Histogram of Log(squarefoot living space)')\n",
    "plt.xlabel('Log(Space (sqft))')\n",
    "plt.ylabel('Nbre of Houses')"
   ]
  },
  {
   "cell_type": "code",
   "execution_count": 8,
   "metadata": {},
   "outputs": [
    {
     "data": {
      "text/plain": [
       "Text(0, 0.5, 'Nbre of Houses')"
      ]
     },
     "execution_count": 8,
     "metadata": {},
     "output_type": "execute_result"
    },
    {
     "data": {
      "image/png": "[encoded data removed]",
      "text/plain": [
       "<Figure size 432x288 with 1 Axes>"
      ]
     },
     "metadata": {
      "needs_background": "light"
     },
     "output_type": "display_data"
    }
   ],
   "source": [
    "# matplotlib histogram\n",
    "plt.hist(logY, color = 'blue', edgecolor = 'black', bins = 30)\n",
    "\n",
    "# Add labels\n",
    "plt.title('Histogram of Log(Price)')\n",
    "plt.xlabel('Log(Price)')\n",
    "plt.ylabel('Nbre of Houses')"
   ]
  },
  {
   "cell_type": "markdown",
   "metadata": {},
   "source": [
    "### Define the classifier"
   ]
  },
  {
   "cell_type": "code",
   "execution_count": 9,
   "metadata": {},
   "outputs": [],
   "source": [
    "def linear_regression(X, Y, numberofiterations, learningrate):\n",
    "    a = 0\n",
    "    b = 0\n",
    "    N = float(len(Y))\n",
    "    for i in range(numberofiterations):\n",
    "        total_a = 0\n",
    "        total_b = 0\n",
    "        for j in range(len(Y)):\n",
    "            total_a = total_a + (X[j]*(Y[j] - (a*X[j] + b)))\n",
    "            total_b = total_b + (Y[j] - (a*X[j] + b)) \n",
    "        derivative_on_a = (-2/N) * total_a\n",
    "        derivative_on_b = (-2/N) * total_b\n",
    "        a = a - (learningrate*derivative_on_a)\n",
    "        b = b - (learningrate*derivative_on_b)\n",
    "    return (a,b)\n"
   ]
  },
  {
   "cell_type": "markdown",
   "metadata": {},
   "source": [
    "### Test and plot the classifier output for logX and logY"
   ]
  },
  {
   "cell_type": "code",
   "execution_count": 10,
   "metadata": {},
   "outputs": [
    {
     "name": "stdout",
     "output_type": "stream",
     "text": [
      "The fitted line is y = 1.5752x + 0.4944\n"
     ]
    },
    {
     "data": {
      "image/png": "[encoded data removed]",
      "text/plain": [
       "<Figure size 432x288 with 1 Axes>"
      ]
     },
     "metadata": {
      "needs_background": "light"
     },
     "output_type": "display_data"
    }
   ],
   "source": [
    "a,b = linear_regression(logX,logY, 1000, 0.001)\n",
    "print(f\"The fitted line is y = {round(a,4)}x + {round(b,4)}\")\n",
    "\n",
    "plt.plot(logX, logY, 'bo')\n",
    "\n",
    "y = lambda x : a*x + b\n",
    "\n",
    "def plot_line(y, logX):\n",
    "    x_values = [i for i in range(math.floor(min(logX)), math.ceil(int(max(logX)))+2)]\n",
    "    y_values = [y(x) for x in x_values]\n",
    "    plt.plot(x_values, y_values, 'r')\n",
    "\n",
    "plot_line(y, logX)"
   ]
  },
  {
   "cell_type": "markdown",
   "metadata": {},
   "source": [
    "### Test and plot the classifier output for X and Y"
   ]
  },
  {
   "cell_type": "code",
   "execution_count": 11,
   "metadata": {},
   "outputs": [
    {
     "name": "stdout",
     "output_type": "stream",
     "text": [
      "The fitted line is y = nanx + nan\n"
     ]
    },
    {
     "data": {
      "image/png": "[encoded data removed]",
      "text/plain": [
       "<Figure size 432x288 with 1 Axes>"
      ]
     },
     "metadata": {
      "needs_background": "light"
     },
     "output_type": "display_data"
    }
   ],
   "source": [
    "a,b = linear_regression(X,Y, 1000, 0.001)\n",
    "print(f\"The fitted line is y = {round(a,4)}x + {round(b,4)}\")\n",
    "\n",
    "plt.plot(X, Y, 'bo')\n",
    "\n",
    "y = lambda x : a*x + b\n",
    "\n",
    "def plot_line(y, X):\n",
    "    x_values = [i for i in range(math.floor(min(X)), math.ceil(int(max(X)))+2)]\n",
    "    y_values = [y(x) for x in x_values]\n",
    "    plt.plot(x_values, y_values, 'r')\n",
    "\n",
    "plot_line(y, X)"
   ]
  }
 ],
 "metadata": {
  "kernelspec": {
   "display_name": "Python 3",
   "language": "python",
   "name": "python3"
  },
  "language_info": {
   "codemirror_mode": {
    "name": "ipython",
    "version": 3
   },
   "file_extension": ".py",
   "mimetype": "text/x-python",
   "name": "python",
   "nbconvert_exporter": "python",
   "pygments_lexer": "ipython3",
   "version": "3.8.0"
  }
 },
 "nbformat": 4,
 "nbformat_minor": 4
}
