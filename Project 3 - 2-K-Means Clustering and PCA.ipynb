{
 "cells": [
  {
   "cell_type": "code",
   "execution_count": 1,
   "id": "c32c22f9",
   "metadata": {},
   "outputs": [],
   "source": [
    "# From https://www.kaggle.com/ruslankl/k-means-clustering-pca"
   ]
  },
  {
   "cell_type": "code",
   "execution_count": 2,
   "id": "410fce5b",
   "metadata": {},
   "outputs": [],
   "source": [
    "import random \n",
    "import numpy as np \n",
    "import pandas as pd\n",
    "import matplotlib.pyplot as plt \n",
    "from sklearn.preprocessing import StandardScaler\n",
    "from IPython.display import display\n",
    "from sklearn.cluster import KMeans \n",
    "from sklearn.decomposition import PCA\n",
    "from mpl_toolkits.mplot3d import Axes3D\n",
    "from sklearn.metrics import homogeneity_score, completeness_score, v_measure_score, adjusted_rand_score, adjusted_mutual_info_score, silhouette_score\n",
    "%matplotlib inline\n",
    "\n",
    "np.random.seed(123)"
   ]
  },
  {
   "cell_type": "code",
   "execution_count": 3,
   "id": "7733dfe2",
   "metadata": {},
   "outputs": [
    {
     "data": {
      "text/html": [
       "<div>\n",
       "<style scoped>\n",
       "    .dataframe tbody tr th:only-of-type {\n",
       "        vertical-align: middle;\n",
       "    }\n",
       "\n",
       "    .dataframe tbody tr th {\n",
       "        vertical-align: top;\n",
       "    }\n",
       "\n",
       "    .dataframe thead th {\n",
       "        text-align: right;\n",
       "    }\n",
       "</style>\n",
       "<table border=\"1\" class=\"dataframe\">\n",
       "  <thead>\n",
       "    <tr style=\"text-align: right;\">\n",
       "      <th></th>\n",
       "      <th>rn</th>\n",
       "      <th>activity</th>\n",
       "      <th>tBodyAcc.mean.X</th>\n",
       "      <th>tBodyAcc.mean.Y</th>\n",
       "      <th>tBodyAcc.mean.Z</th>\n",
       "      <th>tBodyAcc.std.X</th>\n",
       "      <th>tBodyAcc.std.Y</th>\n",
       "      <th>tBodyAcc.std.Z</th>\n",
       "      <th>tBodyAcc.mad.X</th>\n",
       "      <th>tBodyAcc.mad.Y</th>\n",
       "      <th>...</th>\n",
       "      <th>fBodyBodyGyroJerkMag.meanFreq</th>\n",
       "      <th>fBodyBodyGyroJerkMag.skewness</th>\n",
       "      <th>fBodyBodyGyroJerkMag.kurtosis</th>\n",
       "      <th>angle.tBodyAccMean.gravity</th>\n",
       "      <th>angle.tBodyAccJerkMean.gravityMean</th>\n",
       "      <th>angle.tBodyGyroMean.gravityMean</th>\n",
       "      <th>angle.tBodyGyroJerkMean.gravityMean</th>\n",
       "      <th>angle.X.gravityMean</th>\n",
       "      <th>angle.Y.gravityMean</th>\n",
       "      <th>angle.Z.gravityMean</th>\n",
       "    </tr>\n",
       "  </thead>\n",
       "  <tbody>\n",
       "    <tr>\n",
       "      <th>613</th>\n",
       "      <td>1739</td>\n",
       "      <td>WALKING_UPSTAIRS</td>\n",
       "      <td>0.241</td>\n",
       "      <td>-0.00873</td>\n",
       "      <td>-0.1060</td>\n",
       "      <td>-0.216</td>\n",
       "      <td>0.3220</td>\n",
       "      <td>-0.0801</td>\n",
       "      <td>-0.267</td>\n",
       "      <td>0.315</td>\n",
       "      <td>...</td>\n",
       "      <td>0.358</td>\n",
       "      <td>-0.726</td>\n",
       "      <td>-0.9410</td>\n",
       "      <td>0.86900</td>\n",
       "      <td>0.337</td>\n",
       "      <td>-0.916</td>\n",
       "      <td>0.7750</td>\n",
       "      <td>-0.686</td>\n",
       "      <td>0.314</td>\n",
       "      <td>0.034</td>\n",
       "    </tr>\n",
       "    <tr>\n",
       "      <th>2306</th>\n",
       "      <td>6598</td>\n",
       "      <td>WALKING_DOWNSTAIRS</td>\n",
       "      <td>0.238</td>\n",
       "      <td>-0.03990</td>\n",
       "      <td>-0.1580</td>\n",
       "      <td>0.284</td>\n",
       "      <td>0.2270</td>\n",
       "      <td>-0.1330</td>\n",
       "      <td>0.245</td>\n",
       "      <td>0.214</td>\n",
       "      <td>...</td>\n",
       "      <td>0.302</td>\n",
       "      <td>-0.190</td>\n",
       "      <td>-0.5850</td>\n",
       "      <td>0.09500</td>\n",
       "      <td>-0.684</td>\n",
       "      <td>0.937</td>\n",
       "      <td>-0.6360</td>\n",
       "      <td>-0.749</td>\n",
       "      <td>0.235</td>\n",
       "      <td>0.127</td>\n",
       "    </tr>\n",
       "    <tr>\n",
       "      <th>800</th>\n",
       "      <td>2291</td>\n",
       "      <td>LAYING</td>\n",
       "      <td>0.280</td>\n",
       "      <td>-0.02310</td>\n",
       "      <td>-0.0998</td>\n",
       "      <td>-0.978</td>\n",
       "      <td>-0.9650</td>\n",
       "      <td>-0.9690</td>\n",
       "      <td>-0.980</td>\n",
       "      <td>-0.964</td>\n",
       "      <td>...</td>\n",
       "      <td>0.494</td>\n",
       "      <td>-0.863</td>\n",
       "      <td>-0.9560</td>\n",
       "      <td>-0.12800</td>\n",
       "      <td>0.262</td>\n",
       "      <td>-0.098</td>\n",
       "      <td>0.0558</td>\n",
       "      <td>0.420</td>\n",
       "      <td>-0.278</td>\n",
       "      <td>-0.714</td>\n",
       "    </tr>\n",
       "    <tr>\n",
       "      <th>1621</th>\n",
       "      <td>4615</td>\n",
       "      <td>LAYING</td>\n",
       "      <td>0.320</td>\n",
       "      <td>0.03790</td>\n",
       "      <td>-0.1530</td>\n",
       "      <td>-0.642</td>\n",
       "      <td>-0.5340</td>\n",
       "      <td>-0.7920</td>\n",
       "      <td>-0.647</td>\n",
       "      <td>-0.615</td>\n",
       "      <td>...</td>\n",
       "      <td>0.309</td>\n",
       "      <td>-0.388</td>\n",
       "      <td>-0.7290</td>\n",
       "      <td>0.00812</td>\n",
       "      <td>-0.139</td>\n",
       "      <td>0.170</td>\n",
       "      <td>0.5200</td>\n",
       "      <td>0.685</td>\n",
       "      <td>-0.250</td>\n",
       "      <td>-0.760</td>\n",
       "    </tr>\n",
       "    <tr>\n",
       "      <th>1436</th>\n",
       "      <td>4111</td>\n",
       "      <td>WALKING</td>\n",
       "      <td>0.211</td>\n",
       "      <td>-0.04250</td>\n",
       "      <td>-0.0977</td>\n",
       "      <td>-0.324</td>\n",
       "      <td>-0.0342</td>\n",
       "      <td>-0.2350</td>\n",
       "      <td>-0.362</td>\n",
       "      <td>-0.031</td>\n",
       "      <td>...</td>\n",
       "      <td>0.241</td>\n",
       "      <td>0.320</td>\n",
       "      <td>0.0199</td>\n",
       "      <td>0.30500</td>\n",
       "      <td>-0.493</td>\n",
       "      <td>0.727</td>\n",
       "      <td>-0.4360</td>\n",
       "      <td>-0.572</td>\n",
       "      <td>0.344</td>\n",
       "      <td>0.182</td>\n",
       "    </tr>\n",
       "  </tbody>\n",
       "</table>\n",
       "<p>5 rows × 563 columns</p>\n",
       "</div>"
      ],
      "text/plain": [
       "        rn            activity  tBodyAcc.mean.X  tBodyAcc.mean.Y  \\\n",
       "613   1739    WALKING_UPSTAIRS            0.241         -0.00873   \n",
       "2306  6598  WALKING_DOWNSTAIRS            0.238         -0.03990   \n",
       "800   2291              LAYING            0.280         -0.02310   \n",
       "1621  4615              LAYING            0.320          0.03790   \n",
       "1436  4111             WALKING            0.211         -0.04250   \n",
       "\n",
       "      tBodyAcc.mean.Z  tBodyAcc.std.X  tBodyAcc.std.Y  tBodyAcc.std.Z  \\\n",
       "613           -0.1060          -0.216          0.3220         -0.0801   \n",
       "2306          -0.1580           0.284          0.2270         -0.1330   \n",
       "800           -0.0998          -0.978         -0.9650         -0.9690   \n",
       "1621          -0.1530          -0.642         -0.5340         -0.7920   \n",
       "1436          -0.0977          -0.324         -0.0342         -0.2350   \n",
       "\n",
       "      tBodyAcc.mad.X  tBodyAcc.mad.Y  ...  fBodyBodyGyroJerkMag.meanFreq  \\\n",
       "613           -0.267           0.315  ...                          0.358   \n",
       "2306           0.245           0.214  ...                          0.302   \n",
       "800           -0.980          -0.964  ...                          0.494   \n",
       "1621          -0.647          -0.615  ...                          0.309   \n",
       "1436          -0.362          -0.031  ...                          0.241   \n",
       "\n",
       "      fBodyBodyGyroJerkMag.skewness  fBodyBodyGyroJerkMag.kurtosis  \\\n",
       "613                          -0.726                        -0.9410   \n",
       "2306                         -0.190                        -0.5850   \n",
       "800                          -0.863                        -0.9560   \n",
       "1621                         -0.388                        -0.7290   \n",
       "1436                          0.320                         0.0199   \n",
       "\n",
       "      angle.tBodyAccMean.gravity  angle.tBodyAccJerkMean.gravityMean  \\\n",
       "613                      0.86900                               0.337   \n",
       "2306                     0.09500                              -0.684   \n",
       "800                     -0.12800                               0.262   \n",
       "1621                     0.00812                              -0.139   \n",
       "1436                     0.30500                              -0.493   \n",
       "\n",
       "      angle.tBodyGyroMean.gravityMean  angle.tBodyGyroJerkMean.gravityMean  \\\n",
       "613                            -0.916                               0.7750   \n",
       "2306                            0.937                              -0.6360   \n",
       "800                            -0.098                               0.0558   \n",
       "1621                            0.170                               0.5200   \n",
       "1436                            0.727                              -0.4360   \n",
       "\n",
       "      angle.X.gravityMean  angle.Y.gravityMean  angle.Z.gravityMean  \n",
       "613                -0.686                0.314                0.034  \n",
       "2306               -0.749                0.235                0.127  \n",
       "800                 0.420               -0.278               -0.714  \n",
       "1621                0.685               -0.250               -0.760  \n",
       "1436               -0.572                0.344                0.182  \n",
       "\n",
       "[5 rows x 563 columns]"
      ]
     },
     "execution_count": 3,
     "metadata": {},
     "output_type": "execute_result"
    }
   ],
   "source": [
    "Data = pd.read_csv('./2-train.csv')\n",
    "Data.sample(5)"
   ]
  },
  {
   "cell_type": "code",
   "execution_count": 4,
   "id": "01c8b6d3",
   "metadata": {},
   "outputs": [
    {
     "name": "stdout",
     "output_type": "stream",
     "text": [
      "Shape of the data set: (3609, 563)\n"
     ]
    }
   ],
   "source": [
    "print('Shape of the data set: ' + str(Data.shape))"
   ]
  },
  {
   "cell_type": "code",
   "execution_count": 5,
   "id": "7c9a1ee4",
   "metadata": {},
   "outputs": [
    {
     "name": "stdout",
     "output_type": "stream",
     "text": [
      "Activity labels: ['STANDING', 'SITTING', 'LAYING', 'WALKING', 'WALKING_DOWNSTAIRS', 'WALKING_UPSTAIRS']\n"
     ]
    }
   ],
   "source": [
    "#save labels as string\n",
    "Labels = Data['activity']\n",
    "Data = Data.drop(['rn', 'activity'], axis = 1)\n",
    "Labels_keys = Labels.unique().tolist()\n",
    "Labels = np.array(Labels)\n",
    "print('Activity labels: ' + str(Labels_keys))"
   ]
  },
  {
   "cell_type": "code",
   "execution_count": 6,
   "id": "81a91079",
   "metadata": {},
   "outputs": [
    {
     "name": "stdout",
     "output_type": "stream",
     "text": [
      "Amount of rows with missing values: 0\n"
     ]
    }
   ],
   "source": [
    "#check for missing values\n",
    "Temp = pd.DataFrame(Data.isnull().sum())\n",
    "Temp.columns = ['Sum']\n",
    "print('Amount of rows with missing values: ' + str(len(Temp.index[Temp['Sum'] > 0])) )"
   ]
  },
  {
   "cell_type": "code",
   "execution_count": 7,
   "id": "9f4e786e",
   "metadata": {},
   "outputs": [],
   "source": [
    "#normalize the dataset\n",
    "scaler = StandardScaler()\n",
    "Data = scaler.fit_transform(Data)"
   ]
  },
  {
   "cell_type": "code",
   "execution_count": 8,
   "id": "9a135db5",
   "metadata": {},
   "outputs": [
    {
     "data": {
      "image/png": "[encoded data removed]",
      "text/plain": [
       "<Figure size 576x360 with 1 Axes>"
      ]
     },
     "metadata": {
      "needs_background": "light"
     },
     "output_type": "display_data"
    }
   ],
   "source": [
    "#check the optimal k value\n",
    "ks = range(1, 10)\n",
    "inertias = []\n",
    "\n",
    "for k in ks:\n",
    "    model = KMeans(n_clusters=k)\n",
    "    model.fit(Data)\n",
    "    inertias.append(model.inertia_)\n",
    "\n",
    "plt.figure(figsize=(8,5))\n",
    "plt.style.use('bmh')\n",
    "plt.plot(ks, inertias, '-o')\n",
    "plt.xlabel('Number of clusters, k')\n",
    "plt.ylabel('Inertia')\n",
    "plt.xticks(ks)\n",
    "plt.show()"
   ]
  },
  {
   "cell_type": "code",
   "execution_count": 9,
   "id": "b2fad303",
   "metadata": {},
   "outputs": [
    {
     "data": {
      "text/html": [
       "<div>\n",
       "<style scoped>\n",
       "    .dataframe tbody tr th:only-of-type {\n",
       "        vertical-align: middle;\n",
       "    }\n",
       "\n",
       "    .dataframe tbody tr th {\n",
       "        vertical-align: top;\n",
       "    }\n",
       "\n",
       "    .dataframe thead th {\n",
       "        text-align: right;\n",
       "    }\n",
       "</style>\n",
       "<table border=\"1\" class=\"dataframe\">\n",
       "  <thead>\n",
       "    <tr style=\"text-align: right;\">\n",
       "      <th>orig_label</th>\n",
       "      <th>LAYING</th>\n",
       "      <th>SITTING</th>\n",
       "      <th>STANDING</th>\n",
       "      <th>WALKING</th>\n",
       "      <th>WALKING_DOWNSTAIRS</th>\n",
       "      <th>WALKING_UPSTAIRS</th>\n",
       "    </tr>\n",
       "    <tr>\n",
       "      <th>clust_label</th>\n",
       "      <th></th>\n",
       "      <th></th>\n",
       "      <th></th>\n",
       "      <th></th>\n",
       "      <th></th>\n",
       "      <th></th>\n",
       "    </tr>\n",
       "  </thead>\n",
       "  <tbody>\n",
       "    <tr>\n",
       "      <th>0</th>\n",
       "      <td>680</td>\n",
       "      <td>622</td>\n",
       "      <td>668</td>\n",
       "      <td>0</td>\n",
       "      <td>0</td>\n",
       "      <td>6</td>\n",
       "    </tr>\n",
       "    <tr>\n",
       "      <th>1</th>\n",
       "      <td>1</td>\n",
       "      <td>1</td>\n",
       "      <td>0</td>\n",
       "      <td>603</td>\n",
       "      <td>493</td>\n",
       "      <td>535</td>\n",
       "    </tr>\n",
       "  </tbody>\n",
       "</table>\n",
       "</div>"
      ],
      "text/plain": [
       "orig_label   LAYING  SITTING  STANDING  WALKING  WALKING_DOWNSTAIRS  \\\n",
       "clust_label                                                           \n",
       "0               680      622       668        0                   0   \n",
       "1                 1        1         0      603                 493   \n",
       "\n",
       "orig_label   WALKING_UPSTAIRS  \n",
       "clust_label                    \n",
       "0                           6  \n",
       "1                         535  "
      ]
     },
     "metadata": {},
     "output_type": "display_data"
    },
    {
     "name": "stdout",
     "output_type": "stream",
     "text": [
      "inertia  homo    compl   v-meas   ARI     AMI     silhouette\n",
      "1156484   0.378   0.981   0.546   0.329   0.546    0.390\n"
     ]
    }
   ],
   "source": [
    "def k_means(n_clust, data_frame, true_labels):\n",
    "    \"\"\"\n",
    "    Function k_means applies k-means clustering algorithm on dataset and prints the crosstab of cluster and actual labels \n",
    "    and clustering performance parameters.\n",
    "    \n",
    "    Input:\n",
    "    n_clust - number of clusters (k value)\n",
    "    data_frame - dataset we want to cluster\n",
    "    true_labels - original labels\n",
    "    \n",
    "    Output:\n",
    "    1 - crosstab of cluster and actual labels\n",
    "    2 - performance table\n",
    "    \"\"\"\n",
    "    k_means = KMeans(n_clusters = n_clust, random_state=123, n_init=30)\n",
    "    k_means.fit(data_frame)\n",
    "    c_labels = k_means.labels_\n",
    "    df = pd.DataFrame({'clust_label': c_labels, 'orig_label': true_labels.tolist()})\n",
    "    ct = pd.crosstab(df['clust_label'], df['orig_label'])\n",
    "    y_clust = k_means.predict(data_frame)\n",
    "    display(ct)\n",
    "    print('% 9s' % 'inertia  homo    compl   v-meas   ARI     AMI     silhouette')\n",
    "    print('%i   %.3f   %.3f   %.3f   %.3f   %.3f    %.3f'\n",
    "      %(k_means.inertia_,\n",
    "      homogeneity_score(true_labels, y_clust),\n",
    "      completeness_score(true_labels, y_clust),\n",
    "      v_measure_score(true_labels, y_clust),\n",
    "      adjusted_rand_score(true_labels, y_clust),\n",
    "      adjusted_mutual_info_score(true_labels, y_clust),\n",
    "      silhouette_score(data_frame, y_clust, metric='euclidean')))\n",
    "    \n",
    "k_means(n_clust=2, data_frame=Data, true_labels=Labels)"
   ]
  },
  {
   "cell_type": "code",
   "execution_count": 10,
   "id": "83255542",
   "metadata": {},
   "outputs": [
    {
     "data": {
      "text/html": [
       "<div>\n",
       "<style scoped>\n",
       "    .dataframe tbody tr th:only-of-type {\n",
       "        vertical-align: middle;\n",
       "    }\n",
       "\n",
       "    .dataframe tbody tr th {\n",
       "        vertical-align: top;\n",
       "    }\n",
       "\n",
       "    .dataframe thead th {\n",
       "        text-align: right;\n",
       "    }\n",
       "</style>\n",
       "<table border=\"1\" class=\"dataframe\">\n",
       "  <thead>\n",
       "    <tr style=\"text-align: right;\">\n",
       "      <th>orig_label</th>\n",
       "      <th>LAYING</th>\n",
       "      <th>SITTING</th>\n",
       "      <th>STANDING</th>\n",
       "      <th>WALKING</th>\n",
       "      <th>WALKING_DOWNSTAIRS</th>\n",
       "      <th>WALKING_UPSTAIRS</th>\n",
       "    </tr>\n",
       "    <tr>\n",
       "      <th>clust_label</th>\n",
       "      <th></th>\n",
       "      <th></th>\n",
       "      <th></th>\n",
       "      <th></th>\n",
       "      <th></th>\n",
       "      <th></th>\n",
       "    </tr>\n",
       "  </thead>\n",
       "  <tbody>\n",
       "    <tr>\n",
       "      <th>0</th>\n",
       "      <td>554</td>\n",
       "      <td>21</td>\n",
       "      <td>0</td>\n",
       "      <td>0</td>\n",
       "      <td>0</td>\n",
       "      <td>0</td>\n",
       "    </tr>\n",
       "    <tr>\n",
       "      <th>1</th>\n",
       "      <td>0</td>\n",
       "      <td>0</td>\n",
       "      <td>0</td>\n",
       "      <td>248</td>\n",
       "      <td>311</td>\n",
       "      <td>97</td>\n",
       "    </tr>\n",
       "    <tr>\n",
       "      <th>2</th>\n",
       "      <td>1</td>\n",
       "      <td>0</td>\n",
       "      <td>0</td>\n",
       "      <td>329</td>\n",
       "      <td>107</td>\n",
       "      <td>438</td>\n",
       "    </tr>\n",
       "    <tr>\n",
       "      <th>3</th>\n",
       "      <td>20</td>\n",
       "      <td>445</td>\n",
       "      <td>479</td>\n",
       "      <td>0</td>\n",
       "      <td>0</td>\n",
       "      <td>0</td>\n",
       "    </tr>\n",
       "    <tr>\n",
       "      <th>4</th>\n",
       "      <td>0</td>\n",
       "      <td>0</td>\n",
       "      <td>0</td>\n",
       "      <td>26</td>\n",
       "      <td>75</td>\n",
       "      <td>4</td>\n",
       "    </tr>\n",
       "    <tr>\n",
       "      <th>5</th>\n",
       "      <td>106</td>\n",
       "      <td>157</td>\n",
       "      <td>189</td>\n",
       "      <td>0</td>\n",
       "      <td>0</td>\n",
       "      <td>2</td>\n",
       "    </tr>\n",
       "  </tbody>\n",
       "</table>\n",
       "</div>"
      ],
      "text/plain": [
       "orig_label   LAYING  SITTING  STANDING  WALKING  WALKING_DOWNSTAIRS  \\\n",
       "clust_label                                                           \n",
       "0               554       21         0        0                   0   \n",
       "1                 0        0         0      248                 311   \n",
       "2                 1        0         0      329                 107   \n",
       "3                20      445       479        0                   0   \n",
       "4                 0        0         0       26                  75   \n",
       "5               106      157       189        0                   0   \n",
       "\n",
       "orig_label   WALKING_UPSTAIRS  \n",
       "clust_label                    \n",
       "0                           0  \n",
       "1                          97  \n",
       "2                         438  \n",
       "3                           0  \n",
       "4                           4  \n",
       "5                           2  "
      ]
     },
     "metadata": {},
     "output_type": "display_data"
    },
    {
     "name": "stdout",
     "output_type": "stream",
     "text": [
      "inertia  homo    compl   v-meas   ARI     AMI     silhouette\n",
      "895967   0.548   0.589   0.568   0.429   0.567    0.113\n"
     ]
    }
   ],
   "source": [
    "k_means(n_clust=6, data_frame=Data, true_labels=Labels)"
   ]
  },
  {
   "cell_type": "code",
   "execution_count": 11,
   "id": "3338efef",
   "metadata": {},
   "outputs": [],
   "source": [
    "#change labels into binary: 0 - not moving, 1 - moving\n",
    "Labels_binary = Labels.copy()\n",
    "for i in range(len(Labels_binary)):\n",
    "    if (Labels_binary[i] == 'STANDING' or Labels_binary[i] == 'SITTING' or Labels_binary[i] == 'LAYING'):\n",
    "        Labels_binary[i] = 0\n",
    "    else:\n",
    "        Labels_binary[i] = 1\n",
    "Labels_binary = np.array(Labels_binary.astype(int))"
   ]
  },
  {
   "cell_type": "code",
   "execution_count": 12,
   "id": "e4e96d7e",
   "metadata": {},
   "outputs": [
    {
     "data": {
      "text/html": [
       "<div>\n",
       "<style scoped>\n",
       "    .dataframe tbody tr th:only-of-type {\n",
       "        vertical-align: middle;\n",
       "    }\n",
       "\n",
       "    .dataframe tbody tr th {\n",
       "        vertical-align: top;\n",
       "    }\n",
       "\n",
       "    .dataframe thead th {\n",
       "        text-align: right;\n",
       "    }\n",
       "</style>\n",
       "<table border=\"1\" class=\"dataframe\">\n",
       "  <thead>\n",
       "    <tr style=\"text-align: right;\">\n",
       "      <th>orig_label</th>\n",
       "      <th>0</th>\n",
       "      <th>1</th>\n",
       "    </tr>\n",
       "    <tr>\n",
       "      <th>clust_label</th>\n",
       "      <th></th>\n",
       "      <th></th>\n",
       "    </tr>\n",
       "  </thead>\n",
       "  <tbody>\n",
       "    <tr>\n",
       "      <th>0</th>\n",
       "      <td>1970</td>\n",
       "      <td>6</td>\n",
       "    </tr>\n",
       "    <tr>\n",
       "      <th>1</th>\n",
       "      <td>2</td>\n",
       "      <td>1631</td>\n",
       "    </tr>\n",
       "  </tbody>\n",
       "</table>\n",
       "</div>"
      ],
      "text/plain": [
       "orig_label      0     1\n",
       "clust_label            \n",
       "0            1970     6\n",
       "1               2  1631"
      ]
     },
     "metadata": {},
     "output_type": "display_data"
    },
    {
     "name": "stdout",
     "output_type": "stream",
     "text": [
      "inertia  homo    compl   v-meas   ARI     AMI     silhouette\n",
      "1156484   0.977   0.978   0.978   0.991   0.978    0.390\n"
     ]
    }
   ],
   "source": [
    "k_means(n_clust=2, data_frame=Data, true_labels=Labels_binary)"
   ]
  },
  {
   "cell_type": "code",
   "execution_count": 13,
   "id": "31da1723",
   "metadata": {},
   "outputs": [
    {
     "data": {
      "image/png": "[encoded data removed]",
      "text/plain": [
       "<Figure size 576x288 with 1 Axes>"
      ]
     },
     "metadata": {
      "needs_background": "light"
     },
     "output_type": "display_data"
    }
   ],
   "source": [
    "#check for optimal number of features\n",
    "pca = PCA(random_state=123)\n",
    "pca.fit(Data)\n",
    "features = range(pca.n_components_)\n",
    "\n",
    "plt.figure(figsize=(8,4))\n",
    "plt.bar(features[:15], pca.explained_variance_[:15], color='lightskyblue')\n",
    "plt.xlabel('PCA feature')\n",
    "plt.ylabel('Variance')\n",
    "plt.xticks(features[:15])\n",
    "plt.show()"
   ]
  },
  {
   "cell_type": "code",
   "execution_count": 14,
   "id": "8035f4c8",
   "metadata": {},
   "outputs": [
    {
     "name": "stdout",
     "output_type": "stream",
     "text": [
      "Shape of the new Data df: (3609, 1)\n"
     ]
    },
    {
     "data": {
      "text/html": [
       "<div>\n",
       "<style scoped>\n",
       "    .dataframe tbody tr th:only-of-type {\n",
       "        vertical-align: middle;\n",
       "    }\n",
       "\n",
       "    .dataframe tbody tr th {\n",
       "        vertical-align: top;\n",
       "    }\n",
       "\n",
       "    .dataframe thead th {\n",
       "        text-align: right;\n",
       "    }\n",
       "</style>\n",
       "<table border=\"1\" class=\"dataframe\">\n",
       "  <thead>\n",
       "    <tr style=\"text-align: right;\">\n",
       "      <th>orig_label</th>\n",
       "      <th>0</th>\n",
       "      <th>1</th>\n",
       "    </tr>\n",
       "    <tr>\n",
       "      <th>clust_label</th>\n",
       "      <th></th>\n",
       "      <th></th>\n",
       "    </tr>\n",
       "  </thead>\n",
       "  <tbody>\n",
       "    <tr>\n",
       "      <th>0</th>\n",
       "      <td>1</td>\n",
       "      <td>1629</td>\n",
       "    </tr>\n",
       "    <tr>\n",
       "      <th>1</th>\n",
       "      <td>1971</td>\n",
       "      <td>8</td>\n",
       "    </tr>\n",
       "  </tbody>\n",
       "</table>\n",
       "</div>"
      ],
      "text/plain": [
       "orig_label      0     1\n",
       "clust_label            \n",
       "0               1  1629\n",
       "1            1971     8"
      ]
     },
     "metadata": {},
     "output_type": "display_data"
    },
    {
     "name": "stdout",
     "output_type": "stream",
     "text": [
      "inertia  homo    compl   v-meas   ARI     AMI     silhouette\n",
      "168716   0.976   0.976   0.976   0.990   0.976    0.794\n"
     ]
    }
   ],
   "source": [
    "def pca_transform(n_comp):\n",
    "    pca = PCA(n_components=n_comp, random_state=123)\n",
    "    global Data_reduced\n",
    "    Data_reduced = pca.fit_transform(Data)\n",
    "    print('Shape of the new Data df: ' + str(Data_reduced.shape))\n",
    "    \n",
    "pca_transform(n_comp=1)\n",
    "k_means(n_clust=2, data_frame=Data_reduced, true_labels=Labels_binary)"
   ]
  },
  {
   "cell_type": "code",
   "execution_count": 15,
   "id": "ca8c5604",
   "metadata": {},
   "outputs": [
    {
     "name": "stdout",
     "output_type": "stream",
     "text": [
      "Shape of the new Data df: (3609, 2)\n"
     ]
    },
    {
     "data": {
      "text/html": [
       "<div>\n",
       "<style scoped>\n",
       "    .dataframe tbody tr th:only-of-type {\n",
       "        vertical-align: middle;\n",
       "    }\n",
       "\n",
       "    .dataframe tbody tr th {\n",
       "        vertical-align: top;\n",
       "    }\n",
       "\n",
       "    .dataframe thead th {\n",
       "        text-align: right;\n",
       "    }\n",
       "</style>\n",
       "<table border=\"1\" class=\"dataframe\">\n",
       "  <thead>\n",
       "    <tr style=\"text-align: right;\">\n",
       "      <th>orig_label</th>\n",
       "      <th>0</th>\n",
       "      <th>1</th>\n",
       "    </tr>\n",
       "    <tr>\n",
       "      <th>clust_label</th>\n",
       "      <th></th>\n",
       "      <th></th>\n",
       "    </tr>\n",
       "  </thead>\n",
       "  <tbody>\n",
       "    <tr>\n",
       "      <th>0</th>\n",
       "      <td>1969</td>\n",
       "      <td>6</td>\n",
       "    </tr>\n",
       "    <tr>\n",
       "      <th>1</th>\n",
       "      <td>3</td>\n",
       "      <td>1631</td>\n",
       "    </tr>\n",
       "  </tbody>\n",
       "</table>\n",
       "</div>"
      ],
      "text/plain": [
       "orig_label      0     1\n",
       "clust_label            \n",
       "0            1969     6\n",
       "1               3  1631"
      ]
     },
     "metadata": {},
     "output_type": "display_data"
    },
    {
     "name": "stdout",
     "output_type": "stream",
     "text": [
      "inertia  homo    compl   v-meas   ARI     AMI     silhouette\n",
      "295753   0.975   0.975   0.975   0.990   0.975    0.694\n"
     ]
    }
   ],
   "source": [
    "pca_transform(n_comp=2)\n",
    "k_means(n_clust=2, data_frame=Data_reduced, true_labels=Labels_binary)"
   ]
  }
 ],
 "metadata": {
  "kernelspec": {
   "display_name": "Python 3",
   "language": "python",
   "name": "python3"
  },
  "language_info": {
   "codemirror_mode": {
    "name": "ipython",
    "version": 3
   },
   "file_extension": ".py",
   "mimetype": "text/x-python",
   "name": "python",
   "nbconvert_exporter": "python",
   "pygments_lexer": "ipython3",
   "version": "3.9.3"
  }
 },
 "nbformat": 4,
 "nbformat_minor": 5
}
