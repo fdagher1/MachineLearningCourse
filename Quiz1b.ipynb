{
 "cells": [
  {
   "cell_type": "markdown",
   "metadata": {},
   "source": [
    "# Quiz 1b"
   ]
  },
  {
   "cell_type": "code",
   "execution_count": 1,
   "metadata": {},
   "outputs": [],
   "source": [
    "#pip install -U scikit-learn\n",
    "from numpy import random\n",
    "from sklearn.metrics import confusion_matrix, accuracy_score, f1_score, recall_score\n",
    "import numpy as np\n",
    "\n",
    "animals = [\"cat\", \"dog\", \"squirrel\", \"cow\", \"sheep\", \"horse\", \"giraffe\", \"zebra\", \"lion\", \"tiger\"]\n",
    "numberOfLabels = 4"
   ]
  },
  {
   "cell_type": "code",
   "execution_count": 2,
   "metadata": {
    "scrolled": true
   },
   "outputs": [],
   "source": [
    "# Generate the ground truth numbers\n",
    "GroundTruths=[]\n",
    "i=0\n",
    "while i<50:\n",
    "    x = random.randint(1,numberOfLabels)\n",
    "    GroundTruths.append(animals[x])\n",
    "    i=i+1\n",
    "#print(GroundTruths)\n"
   ]
  },
  {
   "cell_type": "code",
   "execution_count": 3,
   "metadata": {},
   "outputs": [],
   "source": [
    "# Generate the prediction numbers\n",
    "Predictions=[]\n",
    "j=0\n",
    "while j<50:\n",
    "    x = random.randint(1,numberOfLabels)\n",
    "    Predictions.append(animals[x])\n",
    "    j=j+1\n",
    "#print(Predictions)"
   ]
  },
  {
   "cell_type": "code",
   "execution_count": 4,
   "metadata": {},
   "outputs": [
    {
     "name": "stdout",
     "output_type": "stream",
     "text": [
      "Confusion Matrix:\n",
      "[[2 6 7]\n",
      " [6 5 7]\n",
      " [7 7 3]]\n",
      "\n",
      "F-Measure:\n",
      "0.2\n",
      "\n",
      "Recall Score:\n",
      "0.2\n"
     ]
    }
   ],
   "source": [
    "# Get confusion matrix\n",
    "confusionMatrix = confusion_matrix(GroundTruths, Predictions)\n",
    "# Get F-measure\n",
    "f1Score = f1_score(GroundTruths, Predictions, average='weighted')\n",
    "# Get recall score\n",
    "recallScore = recall_score(GroundTruths, Predictions, average='weighted')\n",
    "# Get accuracy score\n",
    "accuracyScore = accuracy_score(GroundTruths, Predictions)\n",
    "\n",
    "print(\"Confusion Matrix:\")\n",
    "print(confusionMatrix)\n",
    "print(\"\\nF-Measure:\")\n",
    "print(f1Score)\n",
    "print(\"\\nRecall Score:\")\n",
    "print(recallScore)"
   ]
  }
 ],
 "metadata": {
  "kernelspec": {
   "display_name": "Python 3",
   "language": "python",
   "name": "python3"
  },
  "language_info": {
   "codemirror_mode": {
    "name": "ipython",
    "version": 3
   },
   "file_extension": ".py",
   "mimetype": "text/x-python",
   "name": "python",
   "nbconvert_exporter": "python",
   "pygments_lexer": "ipython3",
   "version": "3.8.0"
  }
 },
 "nbformat": 4,
 "nbformat_minor": 4
}
