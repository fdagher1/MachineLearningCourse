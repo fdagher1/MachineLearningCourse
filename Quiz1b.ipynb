{
 "cells": [
  {
   "cell_type": "markdown",
   "metadata": {},
   "source": [
    "# Quiz 1b"
   ]
  },
  {
   "cell_type": "code",
   "execution_count": 1,
   "metadata": {},
   "outputs": [],
   "source": [
    "pip install -U scikit-learn\n",
    "from numpy import random\n",
    "from sklearn.metrics import confusion_matrix, accuracy_score, f1_score, recall_score\n",
    "import numpy as np\n",
    "\n",
    "animalLabels = [\"cat\", \"dog\", \"squirrel\", \"cow\", \"sheep\", \"horse\", \"giraffe\", \"zebra\", \"lion\", \"tiger\"]\n",
    "numberOfLabelsToUse = 4"
   ]
  },
  {
   "cell_type": "code",
   "execution_count": 2,
   "metadata": {
    "scrolled": true
   },
   "outputs": [],
   "source": [
    "# Generate the ground truth numbers\n",
    "GroundTruths=[]\n",
    "i=0\n",
    "while i<50:\n",
    "    x = random.randint(1,numberOfLabelsToUse)\n",
    "    GroundTruths.append(animalLabels[x])\n",
    "    i=i+1\n",
    "#print(GroundTruths)\n"
   ]
  },
  {
   "cell_type": "code",
   "execution_count": 3,
   "metadata": {},
   "outputs": [],
   "source": [
    "# Generate the prediction numbers\n",
    "Predictions=[]\n",
    "j=0\n",
    "while j<50:\n",
    "    x = random.randint(1,numberOfLabelsToUse)\n",
    "    Predictions.append(animalLabels[x])\n",
    "    j=j+1\n",
    "#print(Predictions)"
   ]
  },
  {
   "cell_type": "code",
   "execution_count": 5,
   "metadata": {},
   "outputs": [
    {
     "name": "stdout",
     "output_type": "stream",
     "text": [
      "Confusion Matrix:\n",
      "[[4 7 6]\n",
      " [7 8 2]\n",
      " [5 3 8]]\n",
      "\n",
      "F-Measure:\n",
      "0.39785281385281385\n",
      "\n",
      "Recall Score:\n",
      "0.4\n",
      "\n",
      "Accuracy Score:\n",
      "0.4\n"
     ]
    }
   ],
   "source": [
    "# Get confusion matrix\n",
    "confusionMatrix = confusion_matrix(GroundTruths, Predictions)\n",
    "# Get F-measure\n",
    "f1Score = f1_score(GroundTruths, Predictions, average='weighted')\n",
    "# Get recall score\n",
    "recallScore = recall_score(GroundTruths, Predictions, average='weighted')\n",
    "# Get accuracy score\n",
    "accuracyScore = accuracy_score(GroundTruths, Predictions)\n",
    "\n",
    "print(\"Confusion Matrix:\")\n",
    "print(confusionMatrix)\n",
    "print(\"\\nF-Measure:\")\n",
    "print(f1Score)\n",
    "print(\"\\nRecall Score:\")\n",
    "print(recallScore)\n",
    "print(\"\\nAccuracy Score:\")\n",
    "print(accuracyScore)"
   ]
  },
  {
   "cell_type": "code",
   "execution_count": null,
   "metadata": {},
   "outputs": [],
   "source": [
    "#Conclusion:\n",
    "#1 - As we decrease the number of classes/labels in the model, the predictions become more accurate\n",
    "#2 - The number of samples does not affect the peformance of the model "
   ]
  }
 ],
 "metadata": {
  "kernelspec": {
   "display_name": "Python 3",
   "language": "python",
   "name": "python3"
  },
  "language_info": {
   "codemirror_mode": {
    "name": "ipython",
    "version": 3
   },
   "file_extension": ".py",
   "mimetype": "text/x-python",
   "name": "python",
   "nbconvert_exporter": "python",
   "pygments_lexer": "ipython3",
   "version": "3.8.0"
  }
 },
 "nbformat": 4,
 "nbformat_minor": 4
}
